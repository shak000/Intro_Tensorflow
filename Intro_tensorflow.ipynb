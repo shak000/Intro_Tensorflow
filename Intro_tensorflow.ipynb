{
  "nbformat": 4,
  "nbformat_minor": 0,
  "metadata": {
    "colab": {
      "name": "Intro_tensorflow.ipynb",
      "provenance": []
    },
    "kernelspec": {
      "name": "python3",
      "display_name": "Python 3"
    }
  },
  "cells": [
    {
      "cell_type": "markdown",
      "metadata": {
        "id": "Nn6G734fxSbB",
        "colab_type": "text"
      },
      "source": [
        "**Computational Graph (Multiplications)**\n"
      ]
    },
    {
      "cell_type": "code",
      "metadata": {
        "id": "rm2ebHa4xdkO",
        "colab_type": "code",
        "colab": {
          "base_uri": "https://localhost:8080/",
          "height": 92
        },
        "outputId": "cb26dc62-943e-46c1-b37d-3ac5736a9900"
      },
      "source": [
        "# import dependencies\n",
        "import numpy as np\n",
        "import tensorflow.compat.v1 as tf\n",
        "tf.disable_v2_behavior()"
      ],
      "execution_count": 7,
      "outputs": [
        {
          "output_type": "stream",
          "text": [
            "WARNING:tensorflow:From /usr/local/lib/python3.6/dist-packages/tensorflow/python/compat/v2_compat.py:96: disable_resource_variables (from tensorflow.python.ops.variable_scope) is deprecated and will be removed in a future version.\n",
            "Instructions for updating:\n",
            "non-resource variables are not supported in the long term\n"
          ],
          "name": "stdout"
        }
      ]
    },
    {
      "cell_type": "code",
      "metadata": {
        "id": "UJNeZztDxkfz",
        "colab_type": "code",
        "colab": {}
      },
      "source": [
        "# Define the variable\n",
        "x_1 = tf.placeholder(tf.float32, name = \"x_1\")\n",
        "x_2 = tf.placeholder(tf.float32, name = \"x_2\")"
      ],
      "execution_count": 8,
      "outputs": []
    },
    {
      "cell_type": "code",
      "metadata": {
        "id": "vEk3_JMeyEx3",
        "colab_type": "code",
        "colab": {}
      },
      "source": [
        "# Define the computation\n",
        "multiply = tf.multiply(x_1, x_2, name = \"multiply\")"
      ],
      "execution_count": 11,
      "outputs": []
    },
    {
      "cell_type": "code",
      "metadata": {
        "id": "ORyUQWUB07A3",
        "colab_type": "code",
        "colab": {
          "base_uri": "https://localhost:8080/",
          "height": 35
        },
        "outputId": "a77941ec-4af0-47ce-ea59-53fa6d097aa6"
      },
      "source": [
        "# Execute the operation\n",
        "with tf.Session() as session:\n",
        "  result = session.run(multiply, feed_dict = {x_1:[1, 2, 3], x_2:[4, 5, 6]})\n",
        "  print(result)"
      ],
      "execution_count": 12,
      "outputs": [
        {
          "output_type": "stream",
          "text": [
            "[ 4. 10. 18.]\n"
          ],
          "name": "stdout"
        }
      ]
    },
    {
      "cell_type": "markdown",
      "metadata": {
        "id": "FinQ63aZ3XYx",
        "colab_type": "text"
      },
      "source": [
        "**Create Tensorflow pipeline**"
      ]
    },
    {
      "cell_type": "code",
      "metadata": {
        "id": "VKbJ7pJx17rd",
        "colab_type": "code",
        "colab": {
          "base_uri": "https://localhost:8080/",
          "height": 35
        },
        "outputId": "f78dd43c-7ea9-4071-c7e6-1a1d74da0dad"
      },
      "source": [
        "## Create the data\n",
        "x_input = np.random.sample((1,2))\n",
        "print(x_input)"
      ],
      "execution_count": 13,
      "outputs": [
        {
          "output_type": "stream",
          "text": [
            "[[0.66739599 0.31068195]]\n"
          ],
          "name": "stdout"
        }
      ]
    },
    {
      "cell_type": "code",
      "metadata": {
        "id": "drjBZ5F23pGg",
        "colab_type": "code",
        "colab": {}
      },
      "source": [
        "## Creating Placeholder\n",
        "x = tf.placeholder(tf.float32, shape = [1,2], name = \"X\")"
      ],
      "execution_count": 16,
      "outputs": []
    },
    {
      "cell_type": "code",
      "metadata": {
        "id": "iB1y6l7f4Fbl",
        "colab_type": "code",
        "colab": {}
      },
      "source": [
        "## Define the dataset method\n",
        "dataset = tf.data.Dataset.from_tensor_slices(x)"
      ],
      "execution_count": 18,
      "outputs": []
    },
    {
      "cell_type": "code",
      "metadata": {
        "id": "9T3rkfRu4TDF",
        "colab_type": "code",
        "colab": {
          "base_uri": "https://localhost:8080/",
          "height": 92
        },
        "outputId": "a05ad4ce-e191-4637-978b-438a3e6eacae"
      },
      "source": [
        "## Create the pipeline\n",
        "iterator = dataset.make_initializable_iterator()\n",
        "get_next = iterator.get_next()"
      ],
      "execution_count": 19,
      "outputs": [
        {
          "output_type": "stream",
          "text": [
            "WARNING:tensorflow:From <ipython-input-19-66402a379adc>:2: DatasetV1.make_initializable_iterator (from tensorflow.python.data.ops.dataset_ops) is deprecated and will be removed in a future version.\n",
            "Instructions for updating:\n",
            "This is a deprecated API that should only be used in TF 1 graph mode and legacy TF 2 graph mode available through `tf.compat.v1`. In all other situations -- namely, eager mode and inside `tf.function` -- you can consume dataset elements using `for elem in dataset: ...` or by explicitly creating iterator via `iterator = iter(dataset)` and fetching its elements via `values = next(iterator)`. Furthermore, this API is not available in TF 2. During the transition from TF 1 to TF 2 you can use `tf.compat.v1.data.make_initializable_iterator(dataset)` to create a TF 1 graph mode style iterator for a dataset created through TF 2 APIs. Note that this should be a transient state of your code base as there are in general no guarantees about the interoperability of TF 1 and TF 2 code.\n"
          ],
          "name": "stdout"
        }
      ]
    },
    {
      "cell_type": "code",
      "metadata": {
        "id": "MGAqa3BJ455v",
        "colab_type": "code",
        "colab": {
          "base_uri": "https://localhost:8080/",
          "height": 35
        },
        "outputId": "4ad0a051-a381-4f52-c67f-98d0350ddfc9"
      },
      "source": [
        "## Execute the operation\n",
        "with tf.Session() as session:\n",
        "  session.run(iterator.initializer, feed_dict={x:x_input})\n",
        "  print(session.run(get_next))"
      ],
      "execution_count": 21,
      "outputs": [
        {
          "output_type": "stream",
          "text": [
            "[0.667396   0.31068194]\n"
          ],
          "name": "stdout"
        }
      ]
    },
    {
      "cell_type": "code",
      "metadata": {
        "id": "pzZbKLRj5kg7",
        "colab_type": "code",
        "colab": {}
      },
      "source": [
        ""
      ],
      "execution_count": null,
      "outputs": []
    }
  ]
}
